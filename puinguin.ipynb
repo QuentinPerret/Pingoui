{
 "cells": [
  {
   "cell_type": "markdown",
   "metadata": {},
   "source": [
    "## Script to generate prolog project database "
   ]
  },
  {
   "cell_type": "code",
   "execution_count": 1,
   "metadata": {},
   "outputs": [
    {
     "name": "stdout",
     "output_type": "stream",
     "text": [
      "Collecting names\n",
      "  Downloading names-0.3.0.tar.gz (789 kB)\n",
      "\u001b[2K     \u001b[90m━━━━━━━━━━━━━━━━━━━━━━━━━━━━━━━━━━━━━━━\u001b[0m \u001b[32m789.1/789.1 kB\u001b[0m \u001b[31m7.7 MB/s\u001b[0m eta \u001b[36m0:00:00\u001b[0ma \u001b[36m0:00:01\u001b[0m\n",
      "\u001b[?25h  Preparing metadata (setup.py) ... \u001b[?25ldone\n",
      "\u001b[?25hBuilding wheels for collected packages: names\n",
      "  Building wheel for names (setup.py) ... \u001b[?25ldone\n",
      "\u001b[?25h  Created wheel for names: filename=names-0.3.0-py3-none-any.whl size=803681 sha256=8314233c5ecd6d7b522ba559a55d1e9740da6722bda9642a3821f5c0ec12614a\n",
      "  Stored in directory: /home/ia23/.cache/pip/wheels/8d/db/fc/50ec19a89a8dcbbd158a4aae44123cb525cda1f07dae287197\n",
      "Successfully built names\n",
      "Installing collected packages: names\n",
      "Successfully installed names-0.3.0\n",
      "Note: you may need to restart the kernel to use updated packages.\n"
     ]
    }
   ],
   "source": [
    "%pip install names"
   ]
  },
  {
   "cell_type": "code",
   "execution_count": 153,
   "metadata": {},
   "outputs": [],
   "source": [
    "import itertools\n",
    "import names\n",
    "import numpy as np\n",
    "import numpy.random as rd\n",
    "\n",
    "class Pinguin:\n",
    "    \n",
    "    id_iter = itertools.count()\n",
    "\n",
    "    def __init__(self) -> None:\n",
    "\n",
    "        self.id = next(self.id_iter)\n",
    "        \n",
    "        self.sex = \"female\" if rd.randint(0,2) == 1 else \"male\"\n",
    "        self.name = names.get_first_name(gender=self.sex)\n",
    "\n",
    "        self.height = rd.randint(20,71)\n",
    "        self.weigh = rd.randint(300,1000)\n",
    "\n",
    "        self.level = rd.randint(1,4)\n",
    "        self.last_position = rd.randint(1,7)\n",
    "    \n",
    "    def writePinguin(self):\n",
    "        return f\"pinguin({self.id},'{self.name}',{self.height},{self.weigh},{self.sex},{self.level},{self.last_position}).\\n\" "
   ]
  },
  {
   "cell_type": "code",
   "execution_count": 154,
   "metadata": {},
   "outputs": [],
   "source": [
    "N = 200\n",
    "\n",
    "with open(\"pinguin.pl\",\"w+\") as f:\n",
    "    for i in range(N):\n",
    "        P = Pinguin()\n",
    "        f.write(P.writePinguin())"
   ]
  }
 ],
 "metadata": {
  "kernelspec": {
   "display_name": "base",
   "language": "python",
   "name": "python3"
  },
  "language_info": {
   "codemirror_mode": {
    "name": "ipython",
    "version": 3
   },
   "file_extension": ".py",
   "mimetype": "text/x-python",
   "name": "python",
   "nbconvert_exporter": "python",
   "pygments_lexer": "ipython3",
   "version": "3.11.5"
  }
 },
 "nbformat": 4,
 "nbformat_minor": 2
}
