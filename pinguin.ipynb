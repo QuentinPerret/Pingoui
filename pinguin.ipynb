{
 "cells": [
  {
   "cell_type": "markdown",
   "metadata": {},
   "source": [
    "## Script to generate prolog project database "
   ]
  },
  {
   "cell_type": "markdown",
   "metadata": {},
   "source": [
    "Penguins database"
   ]
  },
  {
   "cell_type": "code",
   "execution_count": 1,
   "metadata": {},
   "outputs": [
    {
     "name": "stdout",
     "output_type": "stream",
     "text": [
      "Collecting names\n",
      "  Downloading names-0.3.0.tar.gz (789 kB)\n",
      "Building wheels for collected packages: names\n",
      "  Building wheel for names (setup.py): started\n",
      "  Building wheel for names (setup.py): finished with status 'done'\n",
      "  Created wheel for names: filename=names-0.3.0-py3-none-any.whl size=803698 sha256=6f2f5a9e9ded07baebd6dc18327df98eb713a5069355ec2e84ad465701524ec3\n",
      "  Stored in directory: c:\\users\\elear\\appdata\\local\\pip\\cache\\wheels\\f1\\bc\\04\\55ab9499ea02359ece8b02b4169ebb30aa52d82b84c13fc506\n",
      "Successfully built names\n",
      "Installing collected packages: names\n",
      "Successfully installed names-0.3.0\n",
      "Note: you may need to restart the kernel to use updated packages.\n"
     ]
    }
   ],
   "source": [
    "%pip install names"
   ]
  },
  {
   "cell_type": "code",
   "execution_count": 2,
   "metadata": {},
   "outputs": [],
   "source": [
    "import itertools\n",
    "import names\n",
    "import numpy as np\n",
    "import numpy.random as rd\n",
    "\n",
    "class Pinguin:\n",
    "    \n",
    "    id_iter = itertools.count()\n",
    "\n",
    "    def __init__(self) -> None:\n",
    "\n",
    "        self.id = next(self.id_iter)\n",
    "        \n",
    "        self.sex = \"female\" if rd.randint(0,2) == 1 else \"male\"\n",
    "        self.name = names.get_first_name(gender=self.sex)\n",
    "\n",
    "        self.height = rd.randint(20,71)\n",
    "        self.weigh = rd.randint(300,1000)\n",
    "\n",
    "        self.level = rd.randint(1,4)\n",
    "        self.last_position = rd.randint(1,7)\n",
    "    \n",
    "    def writePinguin(self):\n",
    "        return f\"pinguin({self.id},'{self.name}',{self.height},{self.weigh},{self.sex},{self.level},{self.last_position}).\\n\" "
   ]
  },
  {
   "cell_type": "code",
   "execution_count": 3,
   "metadata": {},
   "outputs": [],
   "source": [
    "N = 100\n",
    "\n",
    "with open(\"pinguin.pl\",\"w+\") as f:\n",
    "    for i in range(N):\n",
    "        P = Pinguin()\n",
    "        f.write(P.writePinguin())"
   ]
  },
  {
   "cell_type": "markdown",
   "metadata": {},
   "source": [
    "Piste database"
   ]
  },
  {
   "cell_type": "code",
   "execution_count": 21,
   "metadata": {},
   "outputs": [],
   "source": [
    "class Piste:\n",
    "    \n",
    "    id_iter = itertools.count()\n",
    "    track_names = [\n",
    "        \"Mario Circuit\", \"Rainbow Road\", \"Bowsers Castle\", \n",
    "        \"Yoshi Valley\", \"Wario Stadium\", \"Donut Plains\", \n",
    "        \"Koopa Troopa Beach\", \"Luigi Raceway\", \"Toads Turnpike\",\n",
    "        \"Mushroom Bridge\", \"Sherbet Land\", \"Delfino Pier\", \n",
    "        \"Peach Beach\", \"Waluigi Stadium\", \"Shy Guy Beach\", \n",
    "        \"DKs Jungle Parkway\", \"Baby Park\", \"Dry Dry Desert\", \n",
    "        \"Tick-Tock Clock\", \"Airship Fortress\", \"Coconut Mall\", \n",
    "        \"Maple Treeway\", \"Grumble Volcano\", \"Moonview Highway\", \n",
    "        \"Mushroom Gorge\"\n",
    "    ]\n",
    "\n",
    "    def __init__(self, difficulty) -> None:\n",
    "        self.id = next(self.id_iter)\n",
    "        self.name = random.sample(self.track_names, 1)[0]\n",
    "        self.difficulty = difficulty\n",
    "    \n",
    "    def writePiste(self):\n",
    "        return f\"piste({self.id},'{self.name}',{self.difficulty}).\\n\"\n",
    "    \n",
    "def create_pistes(num_pistes):\n",
    "    with open(\"pistes.pl\", \"w+\") as f:\n",
    "        for i in range(3):\n",
    "            piste = Piste(i)\n",
    "            f.write(piste.writePiste())\n",
    "        for i in range(num_pistes-3):\n",
    "            difficulty = rd.randint(1, 4)\n",
    "            piste = Piste(difficulty)\n",
    "            f.write(piste.writePiste())\n",
    "\n",
    "# Exemple: Créer 8 pistes\n",
    "create_pistes(4)"
   ]
  }
 ],
 "metadata": {
  "kernelspec": {
   "display_name": "Python 3.9.7 ('base')",
   "language": "python",
   "name": "python3"
  },
  "language_info": {
   "codemirror_mode": {
    "name": "ipython",
    "version": 3
   },
   "file_extension": ".py",
   "mimetype": "text/x-python",
   "name": "python",
   "nbconvert_exporter": "python",
   "pygments_lexer": "ipython3",
   "version": "3.9.7"
  },
  "vscode": {
   "interpreter": {
    "hash": "de8cb9a979b29690dcb7f45ffb9780360f687163891679375b67e9b04b0fc808"
   }
  }
 },
 "nbformat": 4,
 "nbformat_minor": 2
}
